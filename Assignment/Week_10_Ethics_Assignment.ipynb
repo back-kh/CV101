{
  "cells": [
    {
      "cell_type": "markdown",
      "metadata": {},
      "source": [
        "# \ud83d\udcd8 Week 10 Assignment: Ethics in Computer Vision\n",
        "In this assignment, you will reflect on ethical concerns related to real-world applications of computer vision."
      ]
    },
    {
      "cell_type": "markdown",
      "metadata": {},
      "source": [
        "## \u270d\ufe0f Task Instructions\n",
        "**Write a short paper (1\u20132 pages)** on one of the following topics:\n",
        "- Facial recognition and public surveillance\n",
        "- OCR for identity documents and privacy concerns\n",
        "- Deep learning for medical diagnosis and ethical risks\n",
        "\n",
        "**In your response, cover the following:**\n",
        "1. Describe the application and its potential benefits\n",
        "2. Identify ethical issues: bias, fairness, privacy, consent, etc.\n",
        "3. Propose possible solutions or best practices\n",
        "4. Support your discussion with at least **two references** (papers or news)\n",
        "\n",
        "**Submission:** Upload your paper as a PDF file.\n",
        "**Due Date:** End of Week 10"
      ]
    },
    {
      "cell_type": "markdown",
      "metadata": {},
      "source": [
        "## \ud83e\udded Optional Discussion Prompt\n",
        "Answer the following question in a short paragraph:\n",
        "\n",
        "> Should facial recognition be banned in public spaces? Why or why not?\n",
        "\n",
        "Support your view with ethical, legal, or technical arguments."
      ]
    },
    {
      "cell_type": "markdown",
      "metadata": {},
      "source": [
        "## \ud83d\udce4 Upload Your Paper (Optional Submission Helper)\n",
        "If you'd like to upload your finished assignment here:"
      ]
    },
    {
      "cell_type": "code",
      "metadata": {},
      "source": [
        "from google.colab import files\n",
        "uploaded = files.upload()"
      ],
      "execution_count": null,
      "outputs": []
    }
  ],
  "metadata": {
    "kernelspec": {
      "display_name": "Python 3",
      "language": "python",
      "name": "python3"
    },
    "language_info": {
      "name": "python",
      "version": "3.8"
    }
  },
  "nbformat": 4,
  "nbformat_minor": 5
}