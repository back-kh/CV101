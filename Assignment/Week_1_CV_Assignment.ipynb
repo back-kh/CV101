{
 "cells": [
  {
   "cell_type": "markdown",
   "id": "11ad2ae2",
   "metadata": {},
   "source": [
    "# 🧠 Week 1 Assignment: Introduction to Computer Vision\n",
    "**Objective:** Understand foundational CV concepts, run code, and reflect on vision applications.\n",
    "\n",
    "**Tasks:**\n",
    "1. Write a 1-page summary: What is computer vision?\n",
    "2. List and describe 3 real-world applications of CV\n",
    "3. Run the edge detection code and upload your image + results\n",
    "4. (Optional) Sketch and explain a vision pipeline\n",
    "\n",
    "**Due:** End of Week 1"
   ]
  },
  {
   "cell_type": "markdown",
   "id": "174e6175",
   "metadata": {},
   "source": [
    "## ✍️ Task 1: What is Computer Vision?\n",
    "Write your summary below:"
   ]
  },
  {
   "cell_type": "code",
   "execution_count": null,
   "id": "5a201b1f",
   "metadata": {},
   "outputs": [],
   "source": [
    "# Type your summary here using comments\n",
    "# Example:\n",
    "# Computer vision is a field of AI that trains computers to interpret and process visual information..."
   ]
  },
  {
   "cell_type": "markdown",
   "id": "275c2050",
   "metadata": {},
   "source": [
    "## 🌍 Task 2: List and describe 3 real-world applications of CV\n",
    "Write your descriptions below:"
   ]
  },
  {
   "cell_type": "code",
   "execution_count": null,
   "id": "f28ba929",
   "metadata": {},
   "outputs": [],
   "source": [
    "# List your applications using comments\n",
    "# Example:\n",
    "# 1. Autonomous Driving: Detects lanes, vehicles, and pedestrians\n",
    "# 2. Medical Imaging: Assists in identifying tumors or abnormalities\n",
    "# 3. Retail Analytics: Monitors customer behavior through video feeds"
   ]
  },
  {
   "cell_type": "markdown",
   "id": "da9115b6",
   "metadata": {},
   "source": [
    "## 🖼️ Task 3: Run Edge Detection on Your Own Image\n",
    "Upload your image, convert to grayscale, apply Gaussian blur, and use Canny edge detection."
   ]
  },
  {
   "cell_type": "code",
   "execution_count": null,
   "id": "2a79d27d",
   "metadata": {},
   "outputs": [],
   "source": [
    "!pip install opencv-python-headless matplotlib\n",
    "import cv2\n",
    "import numpy as np\n",
    "import matplotlib.pyplot as plt\n",
    "from google.colab.patches import cv2_imshow\n",
    "from google.colab import files\n",
    "\n",
    "# Upload image\n",
    "uploaded = files.upload()\n",
    "img_path = next(iter(uploaded))\n",
    "\n",
    "# Load and show original\n",
    "img = cv2.imread(img_path)\n",
    "cv2_imshow(img)\n",
    "print(\"Original Image\")\n",
    "\n",
    "# Convert to grayscale\n",
    "gray = cv2.cvtColor(img, cv2.COLOR_BGR2GRAY)\n",
    "cv2_imshow(gray)\n",
    "print(\"Grayscale\")\n",
    "\n",
    "# Gaussian blur\n",
    "blur = cv2.GaussianBlur(gray, (5, 5), 0)\n",
    "cv2_imshow(blur)\n",
    "print(\"Blurred\")\n",
    "\n",
    "# Canny edge detection\n",
    "edges = cv2.Canny(blur, 100, 200)\n",
    "cv2_imshow(edges)\n",
    "print(\"Edge Map\")\n",
    "\n",
    "# Save result\n",
    "cv2.imwrite(\"canny_edges.jpg\", edges)"
   ]
  },
  {
   "cell_type": "markdown",
   "id": "8f0dd64c",
   "metadata": {},
   "source": [
    "## 🧭 Task 4 (Optional): Sketch a Vision Pipeline\n",
    "Upload your sketch or describe the pipeline steps."
   ]
  },
  {
   "cell_type": "code",
   "execution_count": null,
   "id": "bb36af96",
   "metadata": {},
   "outputs": [],
   "source": [
    "# Upload your sketch (optional)\n",
    "# files.upload()"
   ]
  }
 ],
 "metadata": {},
 "nbformat": 4,
 "nbformat_minor": 5
}
