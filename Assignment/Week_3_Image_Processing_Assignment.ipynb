{
 "cells": [
  {
   "cell_type": "markdown",
   "id": "a88c1ea5",
   "metadata": {},
   "source": [
    "# 🧪 Week 3 Assignment: Image Processing Fundamentals\n",
    "**Objective:** Practice edge detection, smoothing, and image enhancement using OpenCV.\n",
    "\n",
    "**Tasks:**\n",
    "1. Load and convert an image to grayscale\n",
    "2. Apply Gaussian blur\n",
    "3. Detect edges using Sobel and Canny methods\n",
    "4. Perform histogram equalization\n",
    "5. Reflect on when and why these techniques are useful"
   ]
  },
  {
   "cell_type": "markdown",
   "id": "05f975a4",
   "metadata": {},
   "source": [
    "## 📁 Step 1: Upload and Convert to Grayscale"
   ]
  },
  {
   "cell_type": "code",
   "execution_count": null,
   "id": "4b3d10ad",
   "metadata": {},
   "outputs": [],
   "source": [
    "!pip install opencv-python-headless matplotlib\n",
    "import cv2\n",
    "import numpy as np\n",
    "import matplotlib.pyplot as plt\n",
    "from google.colab import files\n",
    "from google.colab.patches import cv2_imshow\n",
    "\n",
    "# Upload image\n",
    "uploaded = files.upload()\n",
    "img_path = next(iter(uploaded))\n",
    "image = cv2.imread(img_path)\n",
    "gray = cv2.cvtColor(image, cv2.COLOR_BGR2GRAY)\n",
    "cv2_imshow(gray)\n",
    "print('Grayscale Image Shape:', gray.shape)"
   ]
  },
  {
   "cell_type": "markdown",
   "id": "88865ca7",
   "metadata": {},
   "source": [
    "## 🌫️ Step 2: Apply Gaussian Blur"
   ]
  },
  {
   "cell_type": "code",
   "execution_count": null,
   "id": "ba84e691",
   "metadata": {},
   "outputs": [],
   "source": [
    "blurred = cv2.GaussianBlur(gray, (5, 5), 0)\n",
    "cv2_imshow(blurred)\n",
    "print('Gaussian Blurred Image')"
   ]
  },
  {
   "cell_type": "markdown",
   "id": "d4ea2499",
   "metadata": {},
   "source": [
    "## 🧭 Step 3: Edge Detection (Sobel and Canny)"
   ]
  },
  {
   "cell_type": "code",
   "execution_count": null,
   "id": "c3ca8e64",
   "metadata": {},
   "outputs": [],
   "source": [
    "# Sobel X\n",
    "sobelx = cv2.Sobel(gray, cv2.CV_64F, 1, 0, ksize=3)\n",
    "cv2_imshow(cv2.convertScaleAbs(sobelx))\n",
    "# Sobel Y\n",
    "sobely = cv2.Sobel(gray, cv2.CV_64F, 0, 1, ksize=3)\n",
    "cv2_imshow(cv2.convertScaleAbs(sobely))\n",
    "\n",
    "# Canny Edge Detection\n",
    "canny = cv2.Canny(gray, 100, 200)\n",
    "cv2_imshow(canny)\n",
    "print('Canny Edge Detection')"
   ]
  },
  {
   "cell_type": "markdown",
   "id": "a5e5f3cf",
   "metadata": {},
   "source": [
    "## 📊 Step 4: Histogram and Equalization"
   ]
  },
  {
   "cell_type": "code",
   "execution_count": null,
   "id": "40c031f5",
   "metadata": {},
   "outputs": [],
   "source": [
    "# Histogram before equalization\n",
    "plt.hist(gray.ravel(), 256, [0, 256])\n",
    "plt.title('Histogram Before Equalization')\n",
    "plt.show()\n",
    "\n",
    "# Equalization\n",
    "equalized = cv2.equalizeHist(gray)\n",
    "cv2_imshow(equalized)\n",
    "\n",
    "# Histogram after equalization\n",
    "plt.hist(equalized.ravel(), 256, [0, 256])\n",
    "plt.title('Histogram After Equalization')\n",
    "plt.show()"
   ]
  },
  {
   "cell_type": "markdown",
   "id": "047705ab",
   "metadata": {},
   "source": [
    "## ✍️ Step 5: Reflection\n",
    "Use this section to answer the following questions:\n",
    "- When would histogram equalization be helpful?\n",
    "- What are the trade-offs of using Canny vs. Sobel?\n",
    "- Which result gave you better edge visibility and why?"
   ]
  },
  {
   "cell_type": "code",
   "execution_count": null,
   "id": "9babd69f",
   "metadata": {},
   "outputs": [],
   "source": [
    "# Write your reflections using comments below:\n",
    "# Histogram equalization is useful when...\n",
    "# Sobel vs. Canny comparison...\n",
    "# Best edge visibility was achieved by...\n"
   ]
  }
 ],
 "metadata": {},
 "nbformat": 4,
 "nbformat_minor": 5
}
