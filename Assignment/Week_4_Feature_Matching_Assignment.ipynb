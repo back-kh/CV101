{
 "cells": [
  {
   "cell_type": "markdown",
   "id": "86529a8e",
   "metadata": {},
   "source": [
    "# 🧪 Week 4 Assignment: Feature Extraction and Matching\n",
    "**Objective:** Learn how to detect keypoints and match features across images using OpenCV.\n",
    "\n",
    "**Tasks:**\n",
    "1. Upload two images (preferably of the same object/scene)\n",
    "2. Use ORB to detect and describe features\n",
    "3. Match features using BFMatcher\n",
    "4. Visualize and reflect on results\n",
    "5. (Optional) Try FLANN-based matcher for faster matching"
   ]
  },
  {
   "cell_type": "markdown",
   "id": "739fa275",
   "metadata": {},
   "source": [
    "## 📁 Step 1: Upload Images"
   ]
  },
  {
   "cell_type": "code",
   "execution_count": null,
   "id": "0c3321fb",
   "metadata": {},
   "outputs": [],
   "source": [
    "from google.colab import files\n",
    "import cv2\n",
    "import numpy as np\n",
    "from google.colab.patches import cv2_imshow\n",
    "\n",
    "# Upload first image\n",
    "uploaded = files.upload()\n",
    "img1 = cv2.imread(next(iter(uploaded)), 0)\n",
    "cv2_imshow(img1)\n",
    "\n",
    "# Upload second image\n",
    "uploaded = files.upload()\n",
    "img2 = cv2.imread(next(iter(uploaded)), 0)\n",
    "cv2_imshow(img2)"
   ]
  },
  {
   "cell_type": "markdown",
   "id": "34f91c39",
   "metadata": {},
   "source": [
    "## 🔍 Step 2: ORB Keypoint Detection and Description"
   ]
  },
  {
   "cell_type": "code",
   "execution_count": null,
   "id": "f89113ad",
   "metadata": {},
   "outputs": [],
   "source": [
    "orb = cv2.ORB_create()\n",
    "kp1, des1 = orb.detectAndCompute(img1, None)\n",
    "kp2, des2 = orb.detectAndCompute(img2, None)\n",
    "\n",
    "img1_kp = cv2.drawKeypoints(img1, kp1, None, color=(0,255,0))\n",
    "img2_kp = cv2.drawKeypoints(img2, kp2, None, color=(0,255,0))\n",
    "cv2_imshow(img1_kp)\n",
    "cv2_imshow(img2_kp)"
   ]
  },
  {
   "cell_type": "markdown",
   "id": "35996069",
   "metadata": {},
   "source": [
    "## 🔗 Step 3: Brute Force Matching"
   ]
  },
  {
   "cell_type": "code",
   "execution_count": null,
   "id": "952f0d64",
   "metadata": {},
   "outputs": [],
   "source": [
    "bf = cv2.BFMatcher(cv2.NORM_HAMMING, crossCheck=True)\n",
    "matches = bf.match(des1, des2)\n",
    "matches = sorted(matches, key=lambda x: x.distance)\n",
    "\n",
    "matched_img = cv2.drawMatches(img1, kp1, img2, kp2, matches[:20], None, flags=2)\n",
    "cv2_imshow(matched_img)"
   ]
  },
  {
   "cell_type": "markdown",
   "id": "8fba0361",
   "metadata": {},
   "source": [
    "## ⚡️ Optional: Try FLANN-based Matching"
   ]
  },
  {
   "cell_type": "code",
   "execution_count": null,
   "id": "0cdb50a4",
   "metadata": {},
   "outputs": [],
   "source": [
    "# FLANN needs float32 descriptors, not required for ORB but shown for extension\n",
    "# Uncomment to try if you use SIFT instead of ORB\n",
    "# FLANN_INDEX_LSH = 6\n",
    "# index_params = dict(algorithm=FLANN_INDEX_LSH, table_number=6, key_size=12, multi_probe_level=1)\n",
    "# search_params = dict(checks=50)\n",
    "# flann = cv2.FlannBasedMatcher(index_params, search_params)\n",
    "# matches = flann.knnMatch(des1, des2, k=2)\n",
    "# good_matches = []\n",
    "# for m, n in matches:\n",
    "#     if m.distance < 0.75 * n.distance:\n",
    "#         good_matches.append(m)\n",
    "# flann_img = cv2.drawMatches(img1, kp1, img2, kp2, good_matches[:20], None, flags=2)\n",
    "# cv2_imshow(flann_img)"
   ]
  },
  {
   "cell_type": "markdown",
   "id": "864bee6e",
   "metadata": {},
   "source": [
    "## ✍️ Step 4: Reflection\n",
    "Use the markdown cell below to answer:\n",
    "- Which matcher gave better results (BF vs FLANN)?\n",
    "- What challenges did you face?\n",
    "- How do these techniques help in real-world apps like panorama stitching?"
   ]
  },
  {
   "cell_type": "code",
   "execution_count": null,
   "id": "eb275779",
   "metadata": {},
   "outputs": [],
   "source": [
    "# Write your reflections using comments below:\n",
    "# BFMatcher results were...\n",
    "# FLANN comparison...\n",
    "# Use in real-world..."
   ]
  }
 ],
 "metadata": {},
 "nbformat": 4,
 "nbformat_minor": 5
}
