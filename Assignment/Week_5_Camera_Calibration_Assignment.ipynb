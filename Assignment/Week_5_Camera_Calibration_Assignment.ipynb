{
 "cells": [
  {
   "cell_type": "markdown",
   "id": "168b1650",
   "metadata": {},
   "source": [
    "# 📸 Week 5: Geometric Vision and Camera Models\n",
    "**Objective:** Understand the pinhole camera model, camera parameters, and perform basic calibration using OpenCV.\n",
    "\n",
    "You will:\n",
    "- Upload checkerboard images\n",
    "- Detect corners\n",
    "- Calibrate camera\n",
    "- Analyze camera matrix and distortion coefficients"
   ]
  },
  {
   "cell_type": "markdown",
   "id": "d5ba808b",
   "metadata": {},
   "source": [
    "## 🔼 Step 1: Upload Checkerboard Images"
   ]
  },
  {
   "cell_type": "code",
   "execution_count": null,
   "id": "b1394f2e",
   "metadata": {},
   "outputs": [],
   "source": [
    "from google.colab import files\n",
    "import os\n",
    "uploaded = files.upload()\n",
    "\n",
    "os.makedirs('calib_images', exist_ok=True)\n",
    "for filename in uploaded.keys():\n",
    "    os.rename(filename, f'calib_images/{filename}')"
   ]
  },
  {
   "cell_type": "markdown",
   "id": "3bd128b4",
   "metadata": {},
   "source": [
    "## 🔍 Step 2: Detect Corners and Calibrate"
   ]
  },
  {
   "cell_type": "code",
   "execution_count": null,
   "id": "f9ec4d13",
   "metadata": {},
   "outputs": [],
   "source": [
    "import cv2\n",
    "import numpy as np\n",
    "import glob\n",
    "import matplotlib.pyplot as plt\n",
    "\n",
    "# Checkerboard dimensions\n",
    "CHECKERBOARD = (6, 9)\n",
    "criteria = (cv2.TERM_CRITERIA_EPS + cv2.TERM_CRITERIA_MAX_ITER, 30, 0.001)\n",
    "\n",
    "# 3D points in real world space\n",
    "objp = np.zeros((CHECKERBOARD[0]*CHECKERBOARD[1], 3), np.float32)\n",
    "objp[:, :2] = np.mgrid[0:CHECKERBOARD[1], 0:CHECKERBOARD[0]].T.reshape(-1, 2)\n",
    "\n",
    "objpoints = []\n",
    "imgpoints = []\n",
    "\n",
    "images = glob.glob('calib_images/*.jpg')\n",
    "\n",
    "for fname in images:\n",
    "    img = cv2.imread(fname)\n",
    "    gray = cv2.cvtColor(img, cv2.COLOR_BGR2GRAY)\n",
    "    ret, corners = cv2.findChessboardCorners(gray, CHECKERBOARD, None)\n",
    "    if ret:\n",
    "        objpoints.append(objp)\n",
    "        corners2 = cv2.cornerSubPix(gray, corners, (11,11), (-1,-1), criteria)\n",
    "        imgpoints.append(corners2)\n",
    "        img = cv2.drawChessboardCorners(img, CHECKERBOARD, corners2, ret)\n",
    "        plt.imshow(cv2.cvtColor(img, cv2.COLOR_BGR2RGB))\n",
    "        plt.title(fname)\n",
    "        plt.axis('off')\n",
    "        plt.show()"
   ]
  },
  {
   "cell_type": "markdown",
   "id": "c02bffd8",
   "metadata": {},
   "source": [
    "## 📷 Step 3: Compute Camera Matrix and Distortion"
   ]
  },
  {
   "cell_type": "code",
   "execution_count": null,
   "id": "7e515188",
   "metadata": {},
   "outputs": [],
   "source": [
    "ret, mtx, dist, rvecs, tvecs = cv2.calibrateCamera(objpoints, imgpoints, gray.shape[::-1], None, None)\n",
    "print(\"Camera Matrix (Intrinsic):\\n\", mtx)\n",
    "print(\"\\nDistortion Coefficients:\\n\", dist)\n",
    "print(\"\\nRotation Vectors (Extrinsic):\", len(rvecs))\n",
    "print(\"\\nTranslation Vectors (Extrinsic):\", len(tvecs))"
   ]
  },
  {
   "cell_type": "markdown",
   "id": "5e032f36",
   "metadata": {},
   "source": [
    "## ✍️ Step 4: Reflection\n",
    "Use the markdown cell below to answer:\n",
    "- What do the intrinsic parameters represent?\n",
    "- How do distortion coefficients affect your image?\n",
    "- Challenges during calibration?"
   ]
  },
  {
   "cell_type": "code",
   "execution_count": null,
   "id": "13431744",
   "metadata": {},
   "outputs": [],
   "source": [
    "# Write your answers here using comments or markdown-style\n",
    "# fx, fy, cx, cy...\n",
    "# Distortion means...\n",
    "# My images worked/did not work because..."
   ]
  }
 ],
 "metadata": {},
 "nbformat": 4,
 "nbformat_minor": 5
}
