{
  "cells": [
    {
      "cell_type": "markdown",
      "metadata": {},
      "source": [
        "# \ud83e\udded Week 8: Object Detection with YOLOv5\n",
        "In this lab assignment, you will:\n",
        "- Clone the YOLOv5 repository\n",
        "- Run object detection on a sample or uploaded image\n",
        "- Explore confidence thresholds and outputs\n",
        "- Optionally compare YOLOv5 with another detection model\n"
      ]
    },
    {
      "cell_type": "code",
      "metadata": {},
      "source": [
        "# \ud83d\udce5 Install YOLOv5 and Dependencies\n",
        "!git clone https://github.com/ultralytics/yolov5.git\n",
        "%cd yolov5\n",
        "!pip install -r requirements.txt"
      ],
      "execution_count": null,
      "outputs": []
    },
    {
      "cell_type": "markdown",
      "metadata": {},
      "source": [
        "## \ud83d\udcf8 Upload Image for Inference"
      ]
    },
    {
      "cell_type": "code",
      "metadata": {},
      "source": [
        "from google.colab import files\n",
        "uploaded = files.upload()\n",
        "# Upload an image file, e.g., 'test.jpg'"
      ],
      "execution_count": null,
      "outputs": []
    },
    {
      "cell_type": "markdown",
      "metadata": {},
      "source": [
        "## \ud83d\ude80 Run Object Detection with YOLOv5s (Small Model)"
      ]
    },
    {
      "cell_type": "code",
      "metadata": {},
      "source": [
        "!python detect.py --source test.jpg --weights yolov5s.pt --conf 0.5"
      ],
      "execution_count": null,
      "outputs": []
    },
    {
      "cell_type": "markdown",
      "metadata": {},
      "source": [
        "## \ud83d\udcc2 View Results"
      ]
    },
    {
      "cell_type": "code",
      "metadata": {},
      "source": [
        "from IPython.display import Image, display\n",
        "display(Image(filename='runs/detect/exp/test.jpg'))"
      ],
      "execution_count": null,
      "outputs": []
    },
    {
      "cell_type": "markdown",
      "metadata": {},
      "source": [
        "## \ud83d\udcdd Assignment Tasks\n",
        "- Upload your own image and run detection\n",
        "- Adjust `--conf` threshold and observe changes\n",
        "- Save and submit:\n",
        "    - Input image\n",
        "    - Output with bounding boxes\n",
        "    - Report with object labels, confidences, and bounding boxes\n",
        "    - Optional: Compare with another model like Faster R-CNN"
      ]
    }
  ],
  "metadata": {
    "kernelspec": {
      "display_name": "Python 3",
      "language": "python",
      "name": "python3"
    },
    "language_info": {
      "name": "python",
      "version": "3.8"
    }
  },
  "nbformat": 4,
  "nbformat_minor": 5
}