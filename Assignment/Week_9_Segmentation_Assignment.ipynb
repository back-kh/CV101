{
  "cells": [
    {
      "cell_type": "markdown",
      "metadata": {},
      "source": [
        "# \ud83e\uddea Week 9: Image Segmentation Assignment\n",
        "In this notebook, you will:\n",
        "- Load a pre-trained semantic segmentation model (DeepLabV3)\n",
        "- Run inference on sample or uploaded images\n",
        "- Visualize and interpret the segmentation results\n",
        "- Optionally explore instance segmentation with Mask R-CNN"
      ]
    },
    {
      "cell_type": "code",
      "metadata": {},
      "source": [
        "# \ud83d\udce6 Install necessary packages\n",
        "!pip install torch torchvision matplotlib"
      ],
      "execution_count": null,
      "outputs": []
    },
    {
      "cell_type": "markdown",
      "metadata": {},
      "source": [
        "## \ud83d\udcc1 Upload your own image"
      ]
    },
    {
      "cell_type": "code",
      "metadata": {},
      "source": [
        "from google.colab import files\n",
        "uploaded = files.upload()\n",
        "# Rename your file to 'your_image.jpg' if necessary"
      ],
      "execution_count": null,
      "outputs": []
    },
    {
      "cell_type": "markdown",
      "metadata": {},
      "source": [
        "## \ud83e\udde0 Load DeepLabV3 Model and Perform Inference"
      ]
    },
    {
      "cell_type": "code",
      "metadata": {},
      "source": [
        "import torch\n",
        "from torchvision import models, transforms\n",
        "from PIL import Image\n",
        "import matplotlib.pyplot as plt\n",
        "import numpy as np\n",
        "\n",
        "# Load pre-trained DeepLabV3 model\n",
        "model = models.segmentation.deeplabv3_resnet101(pretrained=True).eval()\n",
        "\n",
        "# Load and preprocess image\n",
        "img = Image.open('your_image.jpg').convert('RGB')\n",
        "transform = transforms.Compose([\n",
        "    transforms.Resize(520),\n",
        "    transforms.ToTensor(),\n",
        "])\n",
        "input_tensor = transform(img).unsqueeze(0)\n",
        "\n",
        "# Run model\n",
        "with torch.no_grad():\n",
        "    output = model(input_tensor)['out'][0]\n",
        "segmentation = output.argmax(0).byte().cpu().numpy()\n",
        "\n",
        "# Display segmentation\n",
        "plt.figure(figsize=(10,5))\n",
        "plt.subplot(1,2,1)\n",
        "plt.title('Original Image')\n",
        "plt.imshow(img)\n",
        "plt.axis('off')\n",
        "\n",
        "plt.subplot(1,2,2)\n",
        "plt.title('Segmentation Mask')\n",
        "plt.imshow(segmentation)\n",
        "plt.axis('off')\n",
        "plt.show()"
      ],
      "execution_count": null,
      "outputs": []
    },
    {
      "cell_type": "markdown",
      "metadata": {},
      "source": [
        "## \u2705 Assignment Instructions\n",
        "- Upload your own image and run segmentation\n",
        "- Save and submit:\n",
        "  - Original input image\n",
        "  - Segmentation output (as image or screenshot)\n",
        "  - Short report explaining the result and any observations\n",
        "  - (Optional) Try instance segmentation with Mask R-CNN\n",
        "\n",
        "**Due Date:** End of Week 9"
      ]
    }
  ],
  "metadata": {
    "kernelspec": {
      "display_name": "Python 3",
      "language": "python",
      "name": "python3"
    },
    "language_info": {
      "name": "python",
      "version": "3.8"
    }
  },
  "nbformat": 4,
  "nbformat_minor": 5
}